{
 "cells": [
  {
   "cell_type": "markdown",
   "id": "useful-machine",
   "metadata": {},
   "source": [
    "##                                   AIM 5001 Final Project Proposal\n",
    "####                                                                             By Zeyu Wang"
   ]
  },
  {
   "cell_type": "markdown",
   "id": "visible-headline",
   "metadata": {},
   "source": [
    "### Introduction：Last few years, every country has a rapid development. We always use GDP to describe a country's development but we ignore most of the valuable data which can help people to understand the development of the country better. In the final project, I would like to get some data about some development indicators of every country across the world from The World Bank Data(https://data.worldbank.org/) and GDP data from international monetary fund(INF) (https://www.imf.org/external/datamapper/NGDPD@WEO/OEMDC/ADVEC/WEOWORLD/AFG/CAN) to explore which indicator has a relationship with the development of a country and what's the relationship between them. For example, current health expenditure maybe has some positive relationship with GPD but we can't know the relationship exactly maybe it's linear or exponent. "
   ]
  },
  {
   "cell_type": "markdown",
   "id": "controlled-strength",
   "metadata": {},
   "source": [
    "### Research Questions: \n",
    "- Which indicator has a relationship with the development of a country?\n",
    "- What's the relationship between these indicators and the development of a country?\n",
    "- Is there have some hysteresis for some indicators to reflect the development of the country?"
   ]
  },
  {
   "cell_type": "markdown",
   "id": "breathing-roots",
   "metadata": {},
   "source": [
    "#### On the one hand, the research of this project has an important significance for all of the countries around the world. Some data not only can help people to acknowledge the development of a country but also can it help people to know which is important for a country's development such as education expenditure. Country can improve the expenditure in these fields which are ignored by people in general and maybe this project can have helped some country to develop faster and make the world better."
   ]
  },
  {
   "cell_type": "markdown",
   "id": "uniform-skirt",
   "metadata": {},
   "source": [
    "#### On the other hand, some political researchers focus on politics with the country's development but they are not paying more attention to the data analysis because they didn't learn such skills and knowledge. This project can provide some data to help them have better research in the politics field."
   ]
  },
  {
   "cell_type": "markdown",
   "id": "smart-restoration",
   "metadata": {},
   "source": [
    "#### Data sources: The data from The World Bank Data has three-way to get and from IMF has two ways to get. So it has more possibility to achieve this project.\n",
    "##### The World Bank Data\n",
    "- (https://databank.worldbank.org/source/world-development-indicators) This website can be Crawled because I don't find the disallow for this website in the robots.txt.\n",
    "- (https://databank.worldbank.org/data/download/WDI_csv.zip) The World Bank Data also provide such a CSV file to download.\n",
    "- (https://datahelpdesk.worldbank.org/knowledgebase/topics/125589-developer-information) Also, there is an API website to get data.\n",
    "##### INF\n",
    "- (https://www.imf.org/external/datamapper/NGDPD@WEO/OEMDC/ADVEC/WEOWORLD/AFG/CAN) This website can be Crawled because I don't find the robots.txt on this page.\n",
    "- (https://www.imf.org/external/datamapper//export/excel.php?indicator=NGDPD) INF also provide CSV file to download.\n",
    "#### I will choose different methods such as web crawler, Web API to get data from these two data resources."
   ]
  },
  {
   "cell_type": "markdown",
   "id": "exempt-dinner",
   "metadata": {},
   "source": [
    "### Approach: Firstly, I will download the CSV file and upload it to Github. I will use Pandas to read it in Jupyter. Then, I will use Web API to get some data and store it in PostgreSQL. I also will get some data by Web Crawler to help get the data better. I will use the bar to see the development of this data from one year to another year. I also will use a scatter plot to see the relationship between GDP. This is large and with many missing data needs to deal and it is filled with challenges but I believe that I can do it well."
   ]
  },
  {
   "cell_type": "markdown",
   "id": "northern-excerpt",
   "metadata": {},
   "source": [
    "### New Knowledge. I maybe will use one of these knowledge points which didn't learn in our class.\n",
    "- Python Multithreading, Maybe this method can help deal with data better.\n",
    "- Develop a python web server and put the py file on it so that we can check the analysis result anywhere.\n",
    "- Use ML/DL to predict the trend of the development of countries such as GDP or other important data in the future."
   ]
  },
  {
   "cell_type": "code",
   "execution_count": null,
   "id": "israeli-weekend",
   "metadata": {},
   "outputs": [],
   "source": []
  }
 ],
 "metadata": {
  "kernelspec": {
   "display_name": "Python 3",
   "language": "python",
   "name": "python3"
  },
  "language_info": {
   "codemirror_mode": {
    "name": "ipython",
    "version": 3
   },
   "file_extension": ".py",
   "mimetype": "text/x-python",
   "name": "python",
   "nbconvert_exporter": "python",
   "pygments_lexer": "ipython3",
   "version": "3.7.1"
  }
 },
 "nbformat": 4,
 "nbformat_minor": 5
}
