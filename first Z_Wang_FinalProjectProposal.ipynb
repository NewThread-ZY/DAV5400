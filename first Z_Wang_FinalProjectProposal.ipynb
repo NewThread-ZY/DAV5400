{
 "cells": [
  {
   "cell_type": "markdown",
   "id": "useful-machine",
   "metadata": {},
   "source": [
    "                                                Proposal"
   ]
  },
  {
   "cell_type": "markdown",
   "id": "visible-headline",
   "metadata": {},
   "source": [
    "Introduction： As we all know, the US has the largest GDP so the government also has a large tax. But we don't clear know where the most of money is used by the US government. If we can know the detail about the spending, we can get more benefit for ourselves. For example, in the covid19, the US government test so many people per day but we don't know how much it spends per day. If we know how much, maybe we can believe that the US will quickly recover from this epidemic. The website https://files.usaspending.gov/database_download/. I found there is a data set which is 100G data stored in PostgreSQL which we learned in this course. We can research the spending of the US government and find something that is beneficial for us."
   ]
  },
  {
   "cell_type": "markdown",
   "id": "controlled-strength",
   "metadata": {},
   "source": [
    "Research Questions: What is the most important area for the government?\n",
    "For example, if we can know that government improves the spending on infrastructure in New York. We can know that maybe the subway in New York will be renewed. We will have a more comfortable life in new york so I plan to still stay in New York after graduating from school rather than come to another area.\n",
    "But if we know that government spends lots of money on NASA, we should buy some stock of SpaceX. The research of data will help us to improve the probability of earning money."
   ]
  },
  {
   "cell_type": "markdown",
   "id": "transparent-bathroom",
   "metadata": {},
   "source": [
    "Data to be Used: Luckily, the government website provides us the data about USA spending. It is about 100G and stores in PostgreSQL. I will download it and recover it to my database. Maybe the difficulty is that the data is so large and it's difficult to deal with and will have many problems in the process."
   ]
  },
  {
   "cell_type": "markdown",
   "id": "exempt-dinner",
   "metadata": {},
   "source": [
    "Approach: Firstly, I will store these data in the database. Then use python to read it. I will use Pandas to do EDA because pandas' data frame is easy to load data and analysis them. Furthermore, I will sure which type of these type. e.g. some are numerical and some are categorical. After making sure of the type of data, I will use some statistical methods to do some basic research. Then I will use seaborn and matplotlib to help me draw the plot such as the bar, scatter, Box-plot and so on. They will help me to have better research on the spending of the USA. "
   ]
  },
  {
   "cell_type": "code",
   "execution_count": null,
   "id": "statistical-abuse",
   "metadata": {},
   "outputs": [],
   "source": []
  }
 ],
 "metadata": {
  "kernelspec": {
   "display_name": "Python 3",
   "language": "python",
   "name": "python3"
  },
  "language_info": {
   "codemirror_mode": {
    "name": "ipython",
    "version": 3
   },
   "file_extension": ".py",
   "mimetype": "text/x-python",
   "name": "python",
   "nbconvert_exporter": "python",
   "pygments_lexer": "ipython3",
   "version": "3.7.1"
  }
 },
 "nbformat": 4,
 "nbformat_minor": 5
}
